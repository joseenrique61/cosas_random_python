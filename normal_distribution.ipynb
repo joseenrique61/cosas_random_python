{
 "cells": [
  {
   "cell_type": "code",
   "execution_count": 14,
   "id": "420d9fd5",
   "metadata": {},
   "outputs": [
    {
     "name": "stdout",
     "output_type": "stream",
     "text": [
      "['Chat GPT' 'Chat GPT' 'Chat GPT' 'Bing AI' 'Dall-e']\n"
     ]
    }
   ],
   "source": [
    "from numpy import random\n",
    "lst = [\"Chat GPT\", \"Bing AI\", \"Microsoft Desginer\", \"Dall-e\", \"Midjourney\", \"Wolfram\"]\n",
    "generator = random.default_rng()\n",
    "salida = generator.choice(lst, size=5, p=[0.4, 0.2, 0.2, 0.1, 0.05, 0.05])\n",
    "print(salida)"
   ]
  }
 ],
 "metadata": {
  "kernelspec": {
   "display_name": "Python 3 (ipykernel)",
   "language": "python",
   "name": "python3"
  },
  "language_info": {
   "codemirror_mode": {
    "name": "ipython",
    "version": 3
   },
   "file_extension": ".py",
   "mimetype": "text/x-python",
   "name": "python",
   "nbconvert_exporter": "python",
   "pygments_lexer": "ipython3",
   "version": "3.9.12"
  }
 },
 "nbformat": 4,
 "nbformat_minor": 5
}
